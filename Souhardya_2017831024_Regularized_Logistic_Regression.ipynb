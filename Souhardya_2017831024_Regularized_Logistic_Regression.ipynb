{
  "nbformat": 4,
  "nbformat_minor": 0,
  "metadata": {
    "colab": {
      "provenance": [],
      "collapsed_sections": [],
      "include_colab_link": true
    },
    "kernelspec": {
      "name": "python3",
      "display_name": "Python 3"
    },
    "language_info": {
      "name": "python"
    },
    "accelerator": "GPU"
  },
  "cells": [
    {
      "cell_type": "markdown",
      "metadata": {
        "id": "view-in-github",
        "colab_type": "text"
      },
      "source": [
        "<a href=\"https://colab.research.google.com/github/SouhardyaSaha/ML-Course-SWE-428/blob/main/Souhardya_2017831024_Regularized_Logistic_Regression.ipynb\" target=\"_parent\"><img src=\"https://colab.research.google.com/assets/colab-badge.svg\" alt=\"Open In Colab\"/></a>"
      ]
    },
    {
      "cell_type": "code",
      "source": [
        "! gdown 1lM7HpS2p7BmgdjdBdDv6UITYAoJ-TqjS"
      ],
      "metadata": {
        "id": "--d7rlbMGyjX",
        "colab": {
          "base_uri": "https://localhost:8080/"
        },
        "outputId": "0d606a9c-60b4-4da3-da25-de634c8a2a02"
      },
      "execution_count": 22,
      "outputs": [
        {
          "output_type": "stream",
          "name": "stdout",
          "text": [
            "Downloading...\n",
            "From: https://drive.google.com/uc?id=1lM7HpS2p7BmgdjdBdDv6UITYAoJ-TqjS\n",
            "To: /content/data2.txt\n",
            "\r  0% 0.00/2.35k [00:00<?, ?B/s]\r100% 2.35k/2.35k [00:00<00:00, 4.24MB/s]\n"
          ]
        }
      ]
    },
    {
      "cell_type": "code",
      "execution_count": 23,
      "metadata": {
        "id": "LkCipJF-F-wK"
      },
      "outputs": [],
      "source": [
        "import pandas as pd\n",
        "import matplotlib.pyplot as plt\n",
        "import csv\n",
        "import numpy as np\n",
        "import seaborn as sns"
      ]
    },
    {
      "cell_type": "code",
      "source": [
        "data = pd.read_csv('/content/data2.txt', header = None, names = [\"x1\",\"x2\",\"y\"])\n",
        "data.head()"
      ],
      "metadata": {
        "id": "_ET7Ev_8HF6L",
        "colab": {
          "base_uri": "https://localhost:8080/",
          "height": 206
        },
        "outputId": "25303b26-770d-4305-e1ce-f3b67717b1f4"
      },
      "execution_count": 24,
      "outputs": [
        {
          "output_type": "execute_result",
          "data": {
            "text/plain": [
              "         x1       x2  y\n",
              "0  0.051267  0.69956  1\n",
              "1 -0.092742  0.68494  1\n",
              "2 -0.213710  0.69225  1\n",
              "3 -0.375000  0.50219  1\n",
              "4 -0.513250  0.46564  1"
            ],
            "text/html": [
              "\n",
              "  <div id=\"df-204057e1-9885-4702-95b4-b2156d3816ee\">\n",
              "    <div class=\"colab-df-container\">\n",
              "      <div>\n",
              "<style scoped>\n",
              "    .dataframe tbody tr th:only-of-type {\n",
              "        vertical-align: middle;\n",
              "    }\n",
              "\n",
              "    .dataframe tbody tr th {\n",
              "        vertical-align: top;\n",
              "    }\n",
              "\n",
              "    .dataframe thead th {\n",
              "        text-align: right;\n",
              "    }\n",
              "</style>\n",
              "<table border=\"1\" class=\"dataframe\">\n",
              "  <thead>\n",
              "    <tr style=\"text-align: right;\">\n",
              "      <th></th>\n",
              "      <th>x1</th>\n",
              "      <th>x2</th>\n",
              "      <th>y</th>\n",
              "    </tr>\n",
              "  </thead>\n",
              "  <tbody>\n",
              "    <tr>\n",
              "      <th>0</th>\n",
              "      <td>0.051267</td>\n",
              "      <td>0.69956</td>\n",
              "      <td>1</td>\n",
              "    </tr>\n",
              "    <tr>\n",
              "      <th>1</th>\n",
              "      <td>-0.092742</td>\n",
              "      <td>0.68494</td>\n",
              "      <td>1</td>\n",
              "    </tr>\n",
              "    <tr>\n",
              "      <th>2</th>\n",
              "      <td>-0.213710</td>\n",
              "      <td>0.69225</td>\n",
              "      <td>1</td>\n",
              "    </tr>\n",
              "    <tr>\n",
              "      <th>3</th>\n",
              "      <td>-0.375000</td>\n",
              "      <td>0.50219</td>\n",
              "      <td>1</td>\n",
              "    </tr>\n",
              "    <tr>\n",
              "      <th>4</th>\n",
              "      <td>-0.513250</td>\n",
              "      <td>0.46564</td>\n",
              "      <td>1</td>\n",
              "    </tr>\n",
              "  </tbody>\n",
              "</table>\n",
              "</div>\n",
              "      <button class=\"colab-df-convert\" onclick=\"convertToInteractive('df-204057e1-9885-4702-95b4-b2156d3816ee')\"\n",
              "              title=\"Convert this dataframe to an interactive table.\"\n",
              "              style=\"display:none;\">\n",
              "        \n",
              "  <svg xmlns=\"http://www.w3.org/2000/svg\" height=\"24px\"viewBox=\"0 0 24 24\"\n",
              "       width=\"24px\">\n",
              "    <path d=\"M0 0h24v24H0V0z\" fill=\"none\"/>\n",
              "    <path d=\"M18.56 5.44l.94 2.06.94-2.06 2.06-.94-2.06-.94-.94-2.06-.94 2.06-2.06.94zm-11 1L8.5 8.5l.94-2.06 2.06-.94-2.06-.94L8.5 2.5l-.94 2.06-2.06.94zm10 10l.94 2.06.94-2.06 2.06-.94-2.06-.94-.94-2.06-.94 2.06-2.06.94z\"/><path d=\"M17.41 7.96l-1.37-1.37c-.4-.4-.92-.59-1.43-.59-.52 0-1.04.2-1.43.59L10.3 9.45l-7.72 7.72c-.78.78-.78 2.05 0 2.83L4 21.41c.39.39.9.59 1.41.59.51 0 1.02-.2 1.41-.59l7.78-7.78 2.81-2.81c.8-.78.8-2.07 0-2.86zM5.41 20L4 18.59l7.72-7.72 1.47 1.35L5.41 20z\"/>\n",
              "  </svg>\n",
              "      </button>\n",
              "      \n",
              "  <style>\n",
              "    .colab-df-container {\n",
              "      display:flex;\n",
              "      flex-wrap:wrap;\n",
              "      gap: 12px;\n",
              "    }\n",
              "\n",
              "    .colab-df-convert {\n",
              "      background-color: #E8F0FE;\n",
              "      border: none;\n",
              "      border-radius: 50%;\n",
              "      cursor: pointer;\n",
              "      display: none;\n",
              "      fill: #1967D2;\n",
              "      height: 32px;\n",
              "      padding: 0 0 0 0;\n",
              "      width: 32px;\n",
              "    }\n",
              "\n",
              "    .colab-df-convert:hover {\n",
              "      background-color: #E2EBFA;\n",
              "      box-shadow: 0px 1px 2px rgba(60, 64, 67, 0.3), 0px 1px 3px 1px rgba(60, 64, 67, 0.15);\n",
              "      fill: #174EA6;\n",
              "    }\n",
              "\n",
              "    [theme=dark] .colab-df-convert {\n",
              "      background-color: #3B4455;\n",
              "      fill: #D2E3FC;\n",
              "    }\n",
              "\n",
              "    [theme=dark] .colab-df-convert:hover {\n",
              "      background-color: #434B5C;\n",
              "      box-shadow: 0px 1px 3px 1px rgba(0, 0, 0, 0.15);\n",
              "      filter: drop-shadow(0px 1px 2px rgba(0, 0, 0, 0.3));\n",
              "      fill: #FFFFFF;\n",
              "    }\n",
              "  </style>\n",
              "\n",
              "      <script>\n",
              "        const buttonEl =\n",
              "          document.querySelector('#df-204057e1-9885-4702-95b4-b2156d3816ee button.colab-df-convert');\n",
              "        buttonEl.style.display =\n",
              "          google.colab.kernel.accessAllowed ? 'block' : 'none';\n",
              "\n",
              "        async function convertToInteractive(key) {\n",
              "          const element = document.querySelector('#df-204057e1-9885-4702-95b4-b2156d3816ee');\n",
              "          const dataTable =\n",
              "            await google.colab.kernel.invokeFunction('convertToInteractive',\n",
              "                                                     [key], {});\n",
              "          if (!dataTable) return;\n",
              "\n",
              "          const docLinkHtml = 'Like what you see? Visit the ' +\n",
              "            '<a target=\"_blank\" href=https://colab.research.google.com/notebooks/data_table.ipynb>data table notebook</a>'\n",
              "            + ' to learn more about interactive tables.';\n",
              "          element.innerHTML = '';\n",
              "          dataTable['output_type'] = 'display_data';\n",
              "          await google.colab.output.renderOutput(dataTable, element);\n",
              "          const docLink = document.createElement('div');\n",
              "          docLink.innerHTML = docLinkHtml;\n",
              "          element.appendChild(docLink);\n",
              "        }\n",
              "      </script>\n",
              "    </div>\n",
              "  </div>\n",
              "  "
            ]
          },
          "metadata": {},
          "execution_count": 24
        }
      ]
    },
    {
      "cell_type": "code",
      "source": [
        "def plotData(data, label_x, label_y, label_pos, label_neg, axes=None):\n",
        "    # Get indexes for class 0 and class 1\n",
        "    neg = data['y'] == 0\n",
        "    pos = data['y'] == 1\n",
        "    \n",
        "    # If no specific axes object has been passed, get the current axes.\n",
        "    if axes == None:\n",
        "        axes = plt.gca()\n",
        "    axes.scatter(data[pos]['x1'], data[pos]['x2'], marker='+', c='orange', s=60, linewidth=2, label=label_pos)\n",
        "    axes.scatter(data[neg]['x1'], data[neg]['x2'], c='blue', s=60, label=label_neg)\n",
        "    axes.set_xlabel(label_x)\n",
        "    axes.set_ylabel(label_y)\n",
        "    axes.legend(frameon= True, fancybox = True);"
      ],
      "metadata": {
        "id": "WQsM0IONHNWP"
      },
      "execution_count": 25,
      "outputs": []
    },
    {
      "cell_type": "code",
      "source": [
        "plotData(data, 'Microchip Test 1', 'Microchip Test 2', 'y = 1', 'y = 0')"
      ],
      "metadata": {
        "id": "mPAeH_KOHRru",
        "colab": {
          "base_uri": "https://localhost:8080/",
          "height": 279
        },
        "outputId": "842f6ed7-5327-4f5c-a4d1-e42ffe3f7c5c"
      },
      "execution_count": 26,
      "outputs": [
        {
          "output_type": "display_data",
          "data": {
            "text/plain": [
              "<Figure size 432x288 with 1 Axes>"
            ],
            "image/png": "[encoded data removed]"
          },
          "metadata": {
            "needs_background": "light"
          }
        }
      ]
    },
    {
      "cell_type": "code",
      "source": [
        "n = data.shape[1]-1\n",
        "x = data[data.columns[0:n]]\n",
        "\n",
        "y = data[data.columns[n:n+1]]\n",
        "# convert to np.array\n",
        "X = x.values\n",
        "y = y.values\n",
        "X[0:5]"
      ],
      "metadata": {
        "id": "v232jZmWHULu",
        "colab": {
          "base_uri": "https://localhost:8080/"
        },
        "outputId": "49d135f7-bce9-4f0c-d58d-38e62c36b2a9"
      },
      "execution_count": 27,
      "outputs": [
        {
          "output_type": "execute_result",
          "data": {
            "text/plain": [
              "array([[ 0.051267,  0.69956 ],\n",
              "       [-0.092742,  0.68494 ],\n",
              "       [-0.21371 ,  0.69225 ],\n",
              "       [-0.375   ,  0.50219 ],\n",
              "       [-0.51325 ,  0.46564 ]])"
            ]
          },
          "metadata": {},
          "execution_count": 27
        }
      ]
    },
    {
      "cell_type": "code",
      "source": [
        "def mapFeature(x1col, x2col):\n",
        "    degrees = 10\n",
        "    out = np.ones((x1col.shape[0], 1))\n",
        "\n",
        "    for i in range(1, degrees+1):\n",
        "      for j in range(0, i+1):\n",
        "        term1 = x1col ** (i-j)\n",
        "        term2 = x2col ** (j)\n",
        "        term  = (term1 * term2).reshape( term1.shape[0], 1 ) \n",
        "        out   = np.hstack(( out, term ))\n",
        "    return out"
      ],
      "metadata": {
        "id": "XgO2azaRdPCc"
      },
      "execution_count": 28,
      "outputs": []
    },
    {
      "cell_type": "code",
      "source": [
        "XX = mapFeature(X[:,0],X[:,1])\n",
        "print(X.shape, XX.shape)"
      ],
      "metadata": {
        "id": "4zmnrt28HZF3",
        "colab": {
          "base_uri": "https://localhost:8080/"
        },
        "outputId": "3726cec2-1144-4f4f-f301-ae752385631a"
      },
      "execution_count": 29,
      "outputs": [
        {
          "output_type": "stream",
          "name": "stdout",
          "text": [
            "(118, 2) (118, 66)\n"
          ]
        }
      ]
    },
    {
      "cell_type": "code",
      "source": [
        "from scipy.special import expit #Vectorized sigmoid function\n",
        "\n",
        "#Hypothesis function and cost function for logistic regression\n",
        "def h(mytheta,myX): #Logistic hypothesis function\n",
        "    return expit(np.dot(myX,mytheta))"
      ],
      "metadata": {
        "id": "sxKJKwaKLP5G"
      },
      "execution_count": 30,
      "outputs": []
    },
    {
      "cell_type": "code",
      "source": [
        "\n",
        "#Cost function, default lambda (regularization) 0\n",
        "def computeCost(mytheta,myX,myy,mylambda = 0.): \n",
        "\n",
        "    m = myy.size # number of training examples\n",
        "\n",
        "    term1 = np.dot(-np.array(myy).T,np.log(h(mytheta,myX)))\n",
        "    term2 = np.dot((1-np.array(myy)).T,np.log(1-h(mytheta,myX)))\n",
        "    regterm = (mylambda/2) * np.sum(np.dot(mytheta[1:].T,mytheta[1:])) #Skip theta0\n",
        "    return float( (1./m) * ( np.sum(term1 - term2) + regterm ) )"
      ],
      "metadata": {
        "id": "pSqGpkkbHetr"
      },
      "execution_count": 31,
      "outputs": []
    },
    {
      "cell_type": "code",
      "source": [
        "def sigmoid(z):\n",
        "    z = np.clip( z, -500, 500 )           # protect against overflow\n",
        "    g = 1.0/(1.0+np.exp(-z))\n",
        "    return g"
      ],
      "metadata": {
        "id": "K2HMCPDSkUnz"
      },
      "execution_count": 32,
      "outputs": []
    },
    {
      "cell_type": "code",
      "source": [
        "def compute_gradient_logistic(X, y, w):\n",
        "  \"\"\"\n",
        "    Computes the gradient for linear regression \n",
        " \n",
        "    Args:\n",
        "      X (ndarray (m,n): Data, m examples with n features\n",
        "      y (ndarray (m,)): target values\n",
        "      w (ndarray (n,)): model parameters\n",
        "    Returns\n",
        "      dj_dw (ndarray (n,)): The gradient of the cost w.r.t. the parameters w.\n",
        "    \"\"\"\n",
        "\n",
        "  m, n = X.shape\n",
        "  dj_dw = np.zeros((n,))\n",
        "\n",
        "  for i in range(m):\n",
        "    f_wb_i = sigmoid(np.dot(X[i], w))                           \n",
        "    err_i  = f_wb_i  - y[i]                       \n",
        "    for j in range(n):\n",
        "      dj_dw[j] = dj_dw[j] + err_i * X[i,j]        \n",
        "  dj_dw = dj_dw/m                                 \n",
        "      \n",
        "  return dj_dw"
      ],
      "metadata": {
        "id": "vcvoYQ7YsaQ7"
      },
      "execution_count": 33,
      "outputs": []
    },
    {
      "cell_type": "code",
      "source": [
        "# from scipy import optimize\n",
        "\n",
        "# def optimizeRegularizedTheta(mytheta,myX,myy,mylambda=0.):\n",
        "#     result = optimize.minimize(computeCost, mytheta, args=(myX, myy, mylambda),  method='BFGS', options={\"maxiter\":500, \"disp\":False} )\n",
        "#     return np.array([result.x]), result.fun\n",
        "\n",
        "print(f\"{100000:4d}\")"
      ],
      "metadata": {
        "id": "MiwC-euqIY9Q",
        "colab": {
          "base_uri": "https://localhost:8080/"
        },
        "outputId": "1372801b-3290-4e59-8807-92aca5c4f4a3"
      },
      "execution_count": 34,
      "outputs": [
        {
          "output_type": "stream",
          "name": "stdout",
          "text": [
            "100000\n"
          ]
        }
      ]
    },
    {
      "cell_type": "code",
      "source": [
        "import copy\n",
        "import math\n",
        "\n",
        "initial_theta = np.zeros(XX.shape[1])\n",
        "print(initial_theta.shape)\n",
        "\n",
        "def optimizeRegularizedTheta(theta, X, Y, lr, epoch, lmbda=0.):\n",
        "  m = X.shape[0]\n",
        "  J_history = []\n",
        "  w = copy.deepcopy(theta)\n",
        "\n",
        "  for i in range(epoch):\n",
        "    # Calculate the gradient and update the parameters\n",
        "    dj_dw = compute_gradient_logistic(X, Y, w)   \n",
        "\n",
        "    # Update Parameters using w, b, alpha and gradient\n",
        "    w = w*(1-lr*(lmbda/m)) - lr * dj_dw              \n",
        "  \n",
        "    # Save cost J at each iteration\n",
        "    if i<100000:      # prevent resource exhaustion \n",
        "        J_history.append(computeCost(w, X, Y, lmbda) )\n",
        "\n",
        "    # Print cost every at intervals 10 times or as many iterations if < 10\n",
        "    if i% math.ceil(epoch / 10) == 0:\n",
        "        print(f\"Epoch {i:4d}: Cost {J_history[-1]}   \")\n",
        "  return w, min(J_history)\n",
        "    \n",
        "theta, mincost = optimizeRegularizedTheta(initial_theta,XX,y, 0.01, 100)\n",
        "print(theta.shape)\n",
        "print(mincost)"
      ],
      "metadata": {
        "colab": {
          "base_uri": "https://localhost:8080/"
        },
        "id": "7h7AEXy5WT2i",
        "outputId": "fb9fee25-6f07-4097-de40-3ee257b23296"
      },
      "execution_count": 35,
      "outputs": [
        {
          "output_type": "stream",
          "name": "stdout",
          "text": [
            "(66,)\n",
            "Epoch    0: Cost 0.6929404864896525   \n",
            "Epoch   10: Cost 0.6909215173814715   \n",
            "Epoch   20: Cost 0.6889856481748252   \n",
            "Epoch   30: Cost 0.6871272905575473   \n",
            "Epoch   40: Cost 0.6853412296344765   \n",
            "Epoch   50: Cost 0.6836226074155769   \n",
            "Epoch   60: Cost 0.6819669052379513   \n",
            "Epoch   70: Cost 0.6803699255503842   \n",
            "Epoch   80: Cost 0.6788277734253525   \n",
            "Epoch   90: Cost 0.677336838101564   \n",
            "(66,)\n",
            "0.6760360170085117\n"
          ]
        }
      ]
    },
    {
      "cell_type": "code",
      "source": [
        "def plotBoundary(mytheta, myX, myy, mylambda=0.):\n",
        "    \"\"\"\n",
        "    Function to plot the decision boundary for arbitrary theta, X, y, lambda value\n",
        "    Inside of this function is feature mapping, and the minimization routine.\n",
        "    It works by making a grid of x1 (\"xvals\") and x2 (\"yvals\") points,\n",
        "    And for each, computing whether the hypothesis classifies that point as\n",
        "    True or False. Then, a contour is drawn with a built-in pyplot function.\n",
        "    \"\"\"\n",
        "    lr = .01\n",
        "    epoch = 10000\n",
        "\n",
        "    theta, min_cost = optimizeRegularizedTheta(mytheta, myX, myy, lr, epoch, mylambda)\n",
        "    print(theta, '\\n\\nCost : ', mincost, '\\n \\n ')\n",
        "    xvals = np.linspace(-1,1.5,50)\n",
        "    yvals = np.linspace(-1,1.5,50)\n",
        "    zvals = np.zeros((len(xvals),len(yvals)))\n",
        "    for i in range(len(xvals)):\n",
        "        for j in range(len(yvals)):\n",
        "            myfeaturesij = mapFeature(np.array([xvals[i]]),np.array([yvals[j]]))\n",
        "            zvals[i][j] = np.dot(theta,myfeaturesij.T)\n",
        "            # print(type(zvals), zvals.shape)\n",
        "    zvals = zvals.transpose()\n",
        "\n",
        "    u, v = np.meshgrid( xvals, yvals )\n",
        "    mycontour = plt.contour( xvals, yvals, zvals, [0])\n",
        "    #Kind of a hacky way to display a text on top of the decision boundary\n",
        "    myfmt = { 0:'Lambda = %d'%mylambda}\n",
        "    plt.clabel(mycontour, inline=1, fontsize=15, fmt=myfmt)\n",
        "    plt.title(\"Decision Boundary\")"
      ],
      "metadata": {
        "id": "n3VQpykTQ1ip"
      },
      "execution_count": 36,
      "outputs": []
    },
    {
      "cell_type": "code",
      "source": [
        "plt.figure(figsize=(12,10))\n",
        "plt.subplot(221)\n",
        "plotData(data, 'Microchip Test 1', 'Microchip Test 2', 'y = 1', 'y = 0')\n",
        "plotBoundary(initial_theta, XX, y, 0.)\n",
        "\n",
        "plt.subplot(222)\n",
        "plotData(data, 'Microchip Test 1', 'Microchip Test 2', 'y = 1', 'y = 0')\n",
        "plotBoundary(initial_theta,XX,y,1.)\n",
        "\n",
        "plt.subplot(223)\n",
        "plotData(data, 'Microchip Test 1', 'Microchip Test 2', 'y = 1', 'y = 0')\n",
        "plotBoundary(initial_theta,XX,y,10.)\n",
        "\n",
        "plt.subplot(224)\n",
        "plotData(data, 'Microchip Test 1', 'Microchip Test 2', 'y = 1', 'y = 0')\n",
        "plotBoundary(initial_theta,XX,y,50.)"
      ],
      "metadata": {
        "id": "JJvTscBAUJjT",
        "colab": {
          "base_uri": "https://localhost:8080/",
          "height": 1000
        },
        "outputId": "1cd10a7d-a607-4276-b976-33619c92a034"
      },
      "execution_count": 37,
      "outputs": [
        {
          "output_type": "stream",
          "name": "stdout",
          "text": [
            "Epoch    0: Cost 0.6929404864896525   \n",
            "Epoch 1000: Cost 0.6089731028458444   \n",
            "Epoch 2000: Cost 0.5699151385087614   \n",
            "Epoch 3000: Cost 0.5419471641283777   \n",
            "Epoch 4000: Cost 0.5200926582684235   \n",
            "Epoch 5000: Cost 0.5023412514449634   \n",
            "Epoch 6000: Cost 0.4875634101978463   \n",
            "Epoch 7000: Cost 0.4750315991572545   \n",
            "Epoch 8000: Cost 0.46424588369481873   \n",
            "Epoch 9000: Cost 0.4548488510565408   \n",
            "[ 1.26390863e+00  7.35472299e-01  1.34538252e+00 -2.05375384e+00\n",
            " -9.41488266e-01 -1.20166966e+00  2.36406507e-01 -4.14240066e-01\n",
            " -4.15927786e-01 -1.19583140e-02 -1.50563830e+00 -8.72486587e-02\n",
            " -6.65390914e-01 -2.97171390e-01 -1.06304407e+00 -1.61240560e-01\n",
            " -2.42749254e-01 -7.79562191e-02 -2.93242680e-01 -3.33218783e-01\n",
            " -3.29445786e-01 -1.06462582e+00  5.98712318e-03 -3.24188678e-01\n",
            " -5.37525840e-03 -3.48531108e-01 -1.63648946e-01 -8.23330094e-01\n",
            " -3.06047075e-01 -1.24790294e-01 -5.83517480e-02 -1.27212285e-01\n",
            " -5.16546925e-02 -1.84990287e-01 -2.22929336e-01 -4.03822703e-01\n",
            " -7.78978963e-01  1.90131822e-02 -1.73838600e-01  3.57096270e-03\n",
            " -1.41494817e-01  1.17577594e-03 -2.05659925e-01 -1.09044758e-01\n",
            " -6.53017462e-01 -3.40921393e-01 -6.76003188e-02 -4.69744859e-02\n",
            " -5.38613348e-02 -2.75335389e-02 -7.21445974e-02 -2.43740855e-02\n",
            " -1.22737152e-01 -1.49671091e-01 -4.15423852e-01 -5.92955329e-01\n",
            "  1.49516876e-02 -1.02411777e-01  3.35198267e-03 -6.41023381e-02\n",
            "  8.56380154e-05 -7.52226103e-02  4.18723079e-03 -1.32225416e-01\n",
            " -8.03417770e-02 -5.47291167e-01] \n",
            "\n",
            "Cost :  0.6760360170085117 \n",
            " \n",
            " \n",
            "Epoch    0: Cost 0.6929404952269095   \n",
            "Epoch 1000: Cost 0.6141631131699615   \n",
            "Epoch 2000: Cost 0.5835205165763692   \n",
            "Epoch 3000: Cost 0.5650112555536969   \n",
            "Epoch 4000: Cost 0.5527902096558887   \n",
            "Epoch 5000: Cost 0.5443930127779093   \n",
            "Epoch 6000: Cost 0.5384754893806005   \n",
            "Epoch 7000: Cost 0.5342254144125537   \n",
            "Epoch 8000: Cost 0.5311255520903687   \n",
            "Epoch 9000: Cost 0.528834991979207   \n",
            "[ 9.20817912e-01  4.70160093e-01  9.57781439e-01 -1.48272614e+00\n",
            " -6.35438064e-01 -8.43527610e-01  1.31177221e-01 -2.81039699e-01\n",
            " -2.89672905e-01 -2.55082415e-02 -1.08875631e+00 -5.71118239e-02\n",
            " -4.71671343e-01 -1.94740844e-01 -7.66926709e-01 -1.36067836e-01\n",
            " -1.66056359e-01 -6.04814794e-02 -2.04484724e-01 -2.24564840e-01\n",
            " -2.60020427e-01 -7.68645197e-01  5.79835109e-03 -2.31418427e-01\n",
            " -2.94568120e-03 -2.47074514e-01 -1.03319111e-01 -6.06374251e-01\n",
            " -2.29457250e-01 -8.55366120e-02 -4.49761759e-02 -8.85627000e-02\n",
            " -3.72063187e-02 -1.31373096e-01 -1.46069882e-01 -3.14784325e-01\n",
            " -5.60324164e-01  1.42912176e-02 -1.24776185e-01  2.36574712e-03\n",
            " -1.00434011e-01  1.53466610e-03 -1.46956998e-01 -6.59257159e-02\n",
            " -4.87895104e-01 -2.48059323e-01 -4.63358400e-02 -3.55327607e-02\n",
            " -3.75758161e-02 -2.04330363e-02 -5.08194551e-02 -1.67806319e-02\n",
            " -8.86275129e-02 -9.47678565e-02 -3.21326427e-01 -4.24012500e-01\n",
            "  1.12310580e-02 -7.37833936e-02  2.16270477e-03 -4.57050184e-02\n",
            " -6.30304588e-05 -5.34933464e-02  3.73700816e-03 -9.55189897e-02\n",
            " -4.63019681e-02 -4.11488987e-01] \n",
            "\n",
            "Cost :  0.6760360170085117 \n",
            " \n",
            " \n",
            "Epoch    0: Cost 0.6929405738622232   \n",
            "Epoch 1000: Cost 0.6440217203801024   \n",
            "Epoch 2000: Cost 0.6397724057425621   \n",
            "Epoch 3000: Cost 0.6390291064160349   \n",
            "Epoch 4000: Cost 0.6388515357090253   \n",
            "Epoch 5000: Cost 0.6387980915718511   \n",
            "Epoch 6000: Cost 0.638779584571343   \n",
            "Epoch 7000: Cost 0.6387726992166688   \n",
            "Epoch 8000: Cost 0.6387700477501326   \n",
            "Epoch 9000: Cost 0.6387690091865135   \n",
            "[ 2.28311753e-01  1.03293362e-02  2.05845004e-01 -3.84592916e-01\n",
            " -1.18303917e-01 -1.93625323e-01 -4.36398234e-02 -5.54604359e-02\n",
            " -6.51263514e-02 -4.65227011e-02 -2.95863101e-01 -1.36350766e-02\n",
            " -1.08149260e-01 -3.23258622e-02 -2.11393637e-01 -8.72428852e-02\n",
            " -3.55432356e-02 -2.13406401e-02 -4.54293484e-02 -4.27582232e-02\n",
            " -1.17608913e-01 -2.19019720e-01 -1.94695458e-03 -5.50486016e-02\n",
            " -1.53850858e-03 -5.82498317e-02 -1.45925940e-02 -1.94513903e-01\n",
            " -9.90112696e-02 -2.03821067e-02 -1.54180689e-02 -1.94293562e-02\n",
            " -1.02730867e-02 -3.28924966e-02 -2.46285549e-02 -1.40357811e-01\n",
            " -1.68341233e-01 -4.08162433e-04 -3.07448614e-02 -6.01483588e-04\n",
            " -2.36404556e-02 -1.22453698e-04 -3.73240230e-02 -7.37769303e-03\n",
            " -1.79396041e-01 -9.81130213e-02 -1.28966838e-02 -1.15086974e-02\n",
            " -8.47717912e-03 -6.17385591e-03 -1.20309490e-02 -4.23854944e-03\n",
            " -2.49140906e-02 -1.37913109e-02 -1.49168481e-01 -1.35307097e-01\n",
            " -1.12577677e-03 -1.87648546e-02 -3.43860100e-04 -1.09940861e-02\n",
            " -6.61945045e-04 -1.30432389e-02  7.18034462e-04 -2.66873904e-02\n",
            " -3.77369426e-03 -1.70678365e-01] \n",
            "\n",
            "Cost :  0.6760360170085117 \n",
            " \n",
            " \n",
            "Epoch    0: Cost 0.692940923352506   \n",
            "Epoch 1000: Cost 0.6755464225601608   \n",
            "Epoch 2000: Cost 0.6755355716173057   \n",
            "Epoch 3000: Cost 0.6755354745933205   \n",
            "Epoch 4000: Cost 0.6755354735097265   \n",
            "Epoch 5000: Cost 0.6755354734964363   \n",
            "Epoch 6000: Cost 0.675535473496266   \n",
            "Epoch 7000: Cost 0.6755354734962636   \n",
            "Epoch 8000: Cost 0.6755354734962634   \n",
            "Epoch 9000: Cost 0.6755354734962634   \n",
            "[ 3.13573825e-02 -2.44184671e-02  2.82952940e-02 -9.86417962e-02\n",
            " -2.59040744e-02 -5.80814710e-02 -2.84957339e-02 -1.34000917e-02\n",
            " -1.66298718e-02 -2.86892520e-02 -7.82563270e-02 -4.17186371e-03\n",
            " -2.57859555e-02 -7.00489926e-03 -6.49091205e-02 -3.45862743e-02\n",
            " -8.54559802e-03 -6.40174525e-03 -1.11511929e-02 -9.71962773e-03\n",
            " -4.63789780e-02 -6.08516377e-02 -1.61228514e-03 -1.30782683e-02\n",
            " -6.73328829e-04 -1.43223012e-02 -3.12150731e-03 -6.37421752e-02\n",
            " -3.56175287e-02 -5.32402175e-03 -4.47331826e-03 -4.51214692e-03\n",
            " -2.73791554e-03 -8.61661053e-03 -5.41357040e-03 -5.35625173e-02\n",
            " -4.95837190e-02 -1.25638046e-03 -7.41479361e-03 -3.59768684e-04\n",
            " -5.62511994e-03 -2.00241301e-04 -9.69291939e-03 -1.61743847e-03\n",
            " -6.30326958e-02 -3.48740777e-02 -3.81008874e-03 -3.25987940e-03\n",
            " -1.96963065e-03 -1.65411057e-03 -2.91925478e-03 -1.11805472e-03\n",
            " -6.96678815e-03 -3.07808623e-03 -5.80808237e-02 -4.25419316e-02\n",
            " -1.43147170e-03 -4.61647975e-03 -2.26371859e-04 -2.61767089e-03\n",
            " -2.55894772e-04 -3.18689167e-03  5.71696310e-05 -7.39564127e-03\n",
            " -9.73964759e-04 -6.41222614e-02] \n",
            "\n",
            "Cost :  0.6760360170085117 \n",
            " \n",
            " \n"
          ]
        },
        {
          "output_type": "display_data",
          "data": {
            "text/plain": [
              "<Figure size 864x720 with 4 Axes>"
            ],
            "image/png": "[encoded data removed]"
          },
          "metadata": {
            "needs_background": "light"
          }
        }
      ]
    }
  ]
}