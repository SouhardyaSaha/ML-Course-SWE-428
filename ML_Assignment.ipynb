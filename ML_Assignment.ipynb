{
  "nbformat": 4,
  "nbformat_minor": 0,
  "metadata": {
    "colab": {
      "provenance": [],
      "include_colab_link": true
    },
    "kernelspec": {
      "name": "python3",
      "display_name": "Python 3"
    },
    "language_info": {
      "name": "python"
    },
    "accelerator": "GPU",
    "gpuClass": "standard"
  },
  "cells": [
    {
      "cell_type": "markdown",
      "metadata": {
        "id": "view-in-github",
        "colab_type": "text"
      },
      "source": [
        "<a href=\"https://colab.research.google.com/github/SouhardyaSaha/ML-Course-SWE-428/blob/main/ML_Assignment.ipynb\" target=\"_parent\"><img src=\"https://colab.research.google.com/assets/colab-badge.svg\" alt=\"Open In Colab\"/></a>"
      ]
    },
    {
      "cell_type": "markdown",
      "source": [
        "# Dataset Access"
      ],
      "metadata": {
        "id": "kdf9ocs3wD-C"
      }
    },
    {
      "cell_type": "code",
      "source": [
        "from google.colab import drive\n",
        "drive.mount('/content/drive')"
      ],
      "metadata": {
        "colab": {
          "base_uri": "https://localhost:8080/"
        },
        "id": "jl9Hw7wwyuPL",
        "outputId": "5cdc7719-907e-44fa-a7c0-6b59dc58a832"
      },
      "execution_count": 50,
      "outputs": [
        {
          "output_type": "stream",
          "name": "stdout",
          "text": [
            "Drive already mounted at /content/drive; to attempt to forcibly remount, call drive.mount(\"/content/drive\", force_remount=True).\n"
          ]
        }
      ]
    },
    {
      "cell_type": "code",
      "source": [
        "# This 2 lines should be run 1st time of running the program\n",
        "# %cd '/content/drive/MyDrive/ML Assignement'\n",
        "# !unzip CNN_dataset.zip"
      ],
      "metadata": {
        "id": "CS4p3FfOB826"
      },
      "execution_count": 51,
      "outputs": []
    },
    {
      "cell_type": "code",
      "source": [
        "import numpy as np\n",
        "from sklearn.model_selection import train_test_split\n",
        "import matplotlib.pyplot as plt\n",
        "import os\n",
        "import cv2\n",
        "\n",
        "import tensorflow as tf\n",
        "from tensorflow.keras.preprocessing import image\n",
        "from tensorflow.keras.models import Sequential, load_model\n",
        "from tensorflow.keras.preprocessing.image import ImageDataGenerator\n",
        "from tensorflow.keras.callbacks import ReduceLROnPlateau\n",
        "from tensorflow.keras.optimizers import RMSprop\n",
        "from tensorflow.keras.callbacks import CSVLogger, ModelCheckpoint, ReduceLROnPlateau, EarlyStopping\n",
        "from tensorflow.keras.layers import Dense, Flatten, Conv2D, Dropout, MaxPooling2D, AvgPool2D"
      ],
      "metadata": {
        "id": "sV6cs1NWlNjx"
      },
      "execution_count": 52,
      "outputs": []
    },
    {
      "cell_type": "code",
      "source": [
        "dir_path = '/content/drive/MyDrive/ML Assignement/CNN_dataset'\n",
        "\n",
        "train_split = 0.8\n",
        "val_split = 0.1\n",
        "test_split = 1 - train_split - val_split\n",
        "\n",
        "images = []\n",
        "labels = []\n",
        "\n",
        "categories = [ 'CXR', 'ChestCT', 'AbdomenCT', 'Hand', 'HeadCT']"
      ],
      "metadata": {
        "id": "EjHBEt46G_jx"
      },
      "execution_count": 53,
      "outputs": []
    },
    {
      "cell_type": "code",
      "source": [
        "for i, category in enumerate(categories):\n",
        "  category_path = os.path.join(dir_path, category)\n",
        "  \n",
        "  for img_title in os.listdir(category_path):\n",
        "      img_dir = os.path.join(category_path, img_title)\n",
        "      img = cv2.imread(img_dir, cv2.IMREAD_GRAYSCALE)\n",
        "      img = cv2.resize(img, (64, 64))\n",
        "      images.append(img)\n",
        "      labels.append(i)"
      ],
      "metadata": {
        "id": "j4cRJv3ClqOv"
      },
      "execution_count": 54,
      "outputs": []
    },
    {
      "cell_type": "code",
      "source": [
        "images = np.array(images, dtype=np.float32)\n",
        "images = np.expand_dims(images, axis=-1)\n",
        "labels = np.array(labels, dtype=np.int32)"
      ],
      "metadata": {
        "id": "dw4YRcQomMOJ"
      },
      "execution_count": 55,
      "outputs": []
    },
    {
      "cell_type": "code",
      "source": [
        "x_train, x_test, y_train, y_test = train_test_split(\n",
        "    images, \n",
        "    labels, \n",
        "    test_size=test_split, \n",
        "    stratify=labels, \n",
        "    random_state=24\n",
        "  )\n",
        "\n",
        "x_train, x_val, y_train, y_val = train_test_split(\n",
        "    x_train, \n",
        "    y_train, \n",
        "    test_size=val_split/(train_split-val_split),\n",
        "    stratify=y_train, \n",
        "    random_state=24\n",
        "  )"
      ],
      "metadata": {
        "id": "v0OUE-BjmcLd"
      },
      "execution_count": 56,
      "outputs": []
    },
    {
      "cell_type": "code",
      "source": [
        "plt.xticks([])\n",
        "plt.yticks([])\n",
        "plt.xlabel([y_train[50]])\n",
        "plt.imshow(x_train[50],cmap=plt.cm.binary)"
      ],
      "metadata": {
        "colab": {
          "base_uri": "https://localhost:8080/",
          "height": 283
        },
        "id": "enJy02ZrpUKA",
        "outputId": "5682789f-e582-41ff-ce34-7667f729d229"
      },
      "execution_count": 57,
      "outputs": [
        {
          "output_type": "execute_result",
          "data": {
            "text/plain": [
              "<matplotlib.image.AxesImage at 0x7f8c78711460>"
            ]
          },
          "metadata": {},
          "execution_count": 57
        },
        {
          "output_type": "display_data",
          "data": {
            "text/plain": [
              "<Figure size 432x288 with 1 Axes>"
            ],
            "image/png": "[encoded data removed]"
          },
          "metadata": {}
        }
      ]
    },
    {
      "cell_type": "code",
      "source": [
        "x_train /= 255.\n",
        "x_val /= 255.\n",
        "x_test /= 255."
      ],
      "metadata": {
        "id": "lgJPYq3kqI68"
      },
      "execution_count": 58,
      "outputs": []
    },
    {
      "cell_type": "code",
      "source": [
        "model = tf.keras.Sequential()\n",
        "# Must define the input shape in the first layer of the neural network\n",
        "model.add(Conv2D(filters=64, kernel_size=(2,2), strides=(1, 1), padding='same', activation='relu', input_shape=(64,64,1))) \n",
        "model.add(MaxPooling2D(pool_size=(2,2)))\n",
        "model.add(Dropout(0.3))\n",
        "model.add(Conv2D(filters=32, kernel_size=(2,2),strides=(1, 1), padding='same', activation='relu'))\n",
        "model.add(MaxPooling2D(pool_size=(2,2)))\n",
        "model.add(Dropout(0.3))\n",
        "model.add(Conv2D(filters=64, kernel_size=(2,2),strides=(1, 1), padding='same', activation='relu'))\n",
        "model.add(MaxPooling2D(pool_size=(2,2)))\n",
        "model.add(Dropout(0.3))\n",
        "model.add(Conv2D(filters=64, kernel_size=(2,2),strides=(1, 1), padding='same', activation='relu'))\n",
        "model.add(MaxPooling2D(pool_size=(2,2)))\n",
        "model.add(Dropout(0.3))\n",
        "model.add(Flatten())\n",
        "model.add(Dense(256, activation='relu'))\n",
        "model.add(Dropout(0.5))\n",
        "model.add(Dense(5, activation='softmax'))\n",
        "# Take a look at the model summary\n",
        "model.summary()"
      ],
      "metadata": {
        "colab": {
          "base_uri": "https://localhost:8080/"
        },
        "id": "KoYLilOFr3eA",
        "outputId": "660b4490-9b4a-4cc5-c810-efe0436a3335"
      },
      "execution_count": 59,
      "outputs": [
        {
          "output_type": "stream",
          "name": "stdout",
          "text": [
            "Model: \"sequential_3\"\n",
            "_________________________________________________________________\n",
            " Layer (type)                Output Shape              Param #   \n",
            "=================================================================\n",
            " conv2d_11 (Conv2D)          (None, 64, 64, 64)        320       \n",
            "                                                                 \n",
            " max_pooling2d_11 (MaxPoolin  (None, 32, 32, 64)       0         \n",
            " g2D)                                                            \n",
            "                                                                 \n",
            " dropout_12 (Dropout)        (None, 32, 32, 64)        0         \n",
            "                                                                 \n",
            " conv2d_12 (Conv2D)          (None, 32, 32, 32)        8224      \n",
            "                                                                 \n",
            " max_pooling2d_12 (MaxPoolin  (None, 16, 16, 32)       0         \n",
            " g2D)                                                            \n",
            "                                                                 \n",
            " dropout_13 (Dropout)        (None, 16, 16, 32)        0         \n",
            "                                                                 \n",
            " conv2d_13 (Conv2D)          (None, 16, 16, 64)        8256      \n",
            "                                                                 \n",
            " max_pooling2d_13 (MaxPoolin  (None, 8, 8, 64)         0         \n",
            " g2D)                                                            \n",
            "                                                                 \n",
            " dropout_14 (Dropout)        (None, 8, 8, 64)          0         \n",
            "                                                                 \n",
            " conv2d_14 (Conv2D)          (None, 8, 8, 64)          16448     \n",
            "                                                                 \n",
            " max_pooling2d_14 (MaxPoolin  (None, 4, 4, 64)         0         \n",
            " g2D)                                                            \n",
            "                                                                 \n",
            " dropout_15 (Dropout)        (None, 4, 4, 64)          0         \n",
            "                                                                 \n",
            " flatten_3 (Flatten)         (None, 1024)              0         \n",
            "                                                                 \n",
            " dense_6 (Dense)             (None, 256)               262400    \n",
            "                                                                 \n",
            " dropout_16 (Dropout)        (None, 256)               0         \n",
            "                                                                 \n",
            " dense_7 (Dense)             (None, 5)                 1285      \n",
            "                                                                 \n",
            "=================================================================\n",
            "Total params: 296,933\n",
            "Trainable params: 296,933\n",
            "Non-trainable params: 0\n",
            "_________________________________________________________________\n"
          ]
        }
      ]
    },
    {
      "cell_type": "code",
      "source": [
        "model.compile(loss='sparse_categorical_crossentropy', optimizer='adam', metrics=['accuracy'])"
      ],
      "metadata": {
        "id": "y36Nl_iatkqh"
      },
      "execution_count": 60,
      "outputs": []
    },
    {
      "cell_type": "code",
      "source": [
        "x_train = x_train.reshape(-1, 64, 64, 1) #Reshape for CNN \n",
        "x_test = x_test.reshape(-1, 64, 64, 1)\n",
        "x_train.shape"
      ],
      "metadata": {
        "colab": {
          "base_uri": "https://localhost:8080/"
        },
        "id": "BgOMyGlKtw9g",
        "outputId": "e3d47221-7398-41c0-bff8-bcf62b21d464"
      },
      "execution_count": 61,
      "outputs": [
        {
          "output_type": "execute_result",
          "data": {
            "text/plain": [
              "(38571, 64, 64, 1)"
            ]
          },
          "metadata": {},
          "execution_count": 61
        }
      ]
    },
    {
      "cell_type": "code",
      "source": [
        "model_log=model.fit(x_train, y_train,\n",
        "          batch_size=60,\n",
        "          epochs=10,\n",
        "          verbose=1,\n",
        "          validation_split=.3)"
      ],
      "metadata": {
        "colab": {
          "base_uri": "https://localhost:8080/"
        },
        "id": "8rAW7xj8t-t6",
        "outputId": "f7aa9d7e-d136-4392-a244-ec3f4f22eef2"
      },
      "execution_count": 62,
      "outputs": [
        {
          "output_type": "stream",
          "name": "stdout",
          "text": [
            "Epoch 1/10\n",
            "450/450 [==============================] - 9s 16ms/step - loss: 0.1770 - accuracy: 0.9461 - val_loss: 0.0285 - val_accuracy: 0.9913\n",
            "Epoch 2/10\n",
            "450/450 [==============================] - 8s 17ms/step - loss: 0.0237 - accuracy: 0.9934 - val_loss: 0.0152 - val_accuracy: 0.9958\n",
            "Epoch 3/10\n",
            "450/450 [==============================] - 7s 16ms/step - loss: 0.0175 - accuracy: 0.9944 - val_loss: 0.0248 - val_accuracy: 0.9946\n",
            "Epoch 4/10\n",
            "450/450 [==============================] - 7s 16ms/step - loss: 0.0091 - accuracy: 0.9967 - val_loss: 0.0169 - val_accuracy: 0.9947\n",
            "Epoch 5/10\n",
            "450/450 [==============================] - 7s 16ms/step - loss: 0.0122 - accuracy: 0.9961 - val_loss: 0.0126 - val_accuracy: 0.9963\n",
            "Epoch 6/10\n",
            "450/450 [==============================] - 7s 15ms/step - loss: 0.0068 - accuracy: 0.9981 - val_loss: 0.0096 - val_accuracy: 0.9970\n",
            "Epoch 7/10\n",
            "450/450 [==============================] - 7s 15ms/step - loss: 0.0074 - accuracy: 0.9977 - val_loss: 0.0045 - val_accuracy: 0.9984\n",
            "Epoch 8/10\n",
            "450/450 [==============================] - 7s 15ms/step - loss: 0.0051 - accuracy: 0.9984 - val_loss: 0.0035 - val_accuracy: 0.9990\n",
            "Epoch 9/10\n",
            "450/450 [==============================] - 7s 16ms/step - loss: 0.0109 - accuracy: 0.9964 - val_loss: 0.0042 - val_accuracy: 0.9990\n",
            "Epoch 10/10\n",
            "450/450 [==============================] - 7s 15ms/step - loss: 0.0056 - accuracy: 0.9980 - val_loss: 0.0764 - val_accuracy: 0.9791\n"
          ]
        }
      ]
    },
    {
      "cell_type": "code",
      "source": [
        "score = model.evaluate(x_test, y_test, verbose=0)\n",
        "print('\\n', 'Test accuracy:', score[1])"
      ],
      "metadata": {
        "colab": {
          "base_uri": "https://localhost:8080/"
        },
        "id": "B7KJnkALuWRe",
        "outputId": "52bb6857-d289-4fa8-89d9-75d1d58ee845"
      },
      "execution_count": 63,
      "outputs": [
        {
          "output_type": "stream",
          "name": "stdout",
          "text": [
            "\n",
            " Test accuracy: 0.9797999858856201\n"
          ]
        }
      ]
    },
    {
      "cell_type": "code",
      "source": [
        "predictions = model.predict(x_test)\n",
        "predictions[0]"
      ],
      "metadata": {
        "colab": {
          "base_uri": "https://localhost:8080/"
        },
        "id": "wVQxNn9RujNb",
        "outputId": "ee59e4b2-005b-42ad-e992-654b80f8c96e"
      },
      "execution_count": 64,
      "outputs": [
        {
          "output_type": "stream",
          "name": "stdout",
          "text": [
            "157/157 [==============================] - 0s 2ms/step\n"
          ]
        },
        {
          "output_type": "execute_result",
          "data": {
            "text/plain": [
              "array([3.5788096e-06, 9.3738985e-01, 6.2453974e-02, 1.5261449e-04,\n",
              "       5.5215953e-08], dtype=float32)"
            ]
          },
          "metadata": {},
          "execution_count": 64
        }
      ]
    },
    {
      "cell_type": "code",
      "source": [
        "predictions[0]"
      ],
      "metadata": {
        "colab": {
          "base_uri": "https://localhost:8080/"
        },
        "id": "H0y_-mdoGZU7",
        "outputId": "170ae8c7-40b7-49f6-eefc-987db0792cc7"
      },
      "execution_count": 65,
      "outputs": [
        {
          "output_type": "execute_result",
          "data": {
            "text/plain": [
              "array([3.5788096e-06, 9.3738985e-01, 6.2453974e-02, 1.5261449e-04,\n",
              "       5.5215953e-08], dtype=float32)"
            ]
          },
          "metadata": {},
          "execution_count": 65
        }
      ]
    },
    {
      "cell_type": "code",
      "source": [
        "np.argmax(predictions[0])"
      ],
      "metadata": {
        "colab": {
          "base_uri": "https://localhost:8080/"
        },
        "id": "pLjco3w1vBes",
        "outputId": "948b9200-7174-46ed-db04-7d367b56674d"
      },
      "execution_count": 66,
      "outputs": [
        {
          "output_type": "execute_result",
          "data": {
            "text/plain": [
              "1"
            ]
          },
          "metadata": {},
          "execution_count": 66
        }
      ]
    },
    {
      "cell_type": "code",
      "source": [
        "x_test = x_test.reshape(-1, 64, 64)\n",
        "x_test.shape"
      ],
      "metadata": {
        "colab": {
          "base_uri": "https://localhost:8080/"
        },
        "id": "otNNTFSbvIea",
        "outputId": "93f20f18-95a1-49a8-8da6-303c627bffe3"
      },
      "execution_count": 67,
      "outputs": [
        {
          "output_type": "execute_result",
          "data": {
            "text/plain": [
              "(5000, 64, 64)"
            ]
          },
          "metadata": {},
          "execution_count": 67
        }
      ]
    },
    {
      "cell_type": "code",
      "source": [
        "plt.xticks([])\n",
        "plt.yticks([])\n",
        "plt.xlabel([y_test[0]])\n",
        "plt.imshow(x_test[0],cmap=plt.cm.binary)"
      ],
      "metadata": {
        "colab": {
          "base_uri": "https://localhost:8080/",
          "height": 283
        },
        "id": "G1MT5r1_vSv_",
        "outputId": "e09ed7ce-21f5-4d0b-c99d-7e55765576f3"
      },
      "execution_count": 68,
      "outputs": [
        {
          "output_type": "execute_result",
          "data": {
            "text/plain": [
              "<matplotlib.image.AxesImage at 0x7f8c784849d0>"
            ]
          },
          "metadata": {},
          "execution_count": 68
        },
        {
          "output_type": "display_data",
          "data": {
            "text/plain": [
              "<Figure size 432x288 with 1 Axes>"
            ],
            "image/png": "[encoded data removed]"
          },
          "metadata": {}
        }
      ]
    },
    {
      "cell_type": "code",
      "source": [
        "fig = plt.figure()\n",
        "plt.subplot(2,1,1)\n",
        "plt.plot(model_log.history['accuracy'])\n",
        "plt.plot(model_log.history['val_accuracy'])\n",
        "plt.title('model accuracy')\n",
        "plt.ylabel('accuracy')\n",
        "plt.xlabel('epoch')\n",
        "plt.legend(['train', 'test'], loc='lower right')\n",
        "plt.subplot(2,1,2)\n",
        "plt.plot(model_log.history['loss'])\n",
        "plt.plot(model_log.history['val_loss'])\n",
        "plt.title('model loss')\n",
        "plt.ylabel('loss')\n",
        "plt.xlabel('epoch')\n",
        "plt.legend(['train', 'test'], loc='upper right')\n",
        "plt.tight_layout()"
      ],
      "metadata": {
        "colab": {
          "base_uri": "https://localhost:8080/",
          "height": 297
        },
        "id": "zYmY9CdBvtiH",
        "outputId": "8981eb9f-be41-4a14-f7c6-70be42b64a89"
      },
      "execution_count": 69,
      "outputs": [
        {
          "output_type": "display_data",
          "data": {
            "text/plain": [
              "<Figure size 432x288 with 2 Axes>"
            ],
            "image/png": "[encoded data removed]"
          },
          "metadata": {
            "needs_background": "light"
          }
        }
      ]
    }
  ]
}